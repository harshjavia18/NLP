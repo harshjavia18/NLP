{
 "cells": [
  {
   "cell_type": "code",
   "execution_count": null,
   "metadata": {},
   "outputs": [],
   "source": []
  },
  {
   "cell_type": "code",
   "execution_count": null,
   "metadata": {},
   "outputs": [],
   "source": [
    "# Load EDA Pkgs\n",
    "import pandas as pd\n",
    "import numpy as np\n",
    "# Load Data Viz Pkgs\n",
    "import seaborn as sns\n",
    "# Load Text Cleaning Pkgs\n",
    "import neattext.functions as nfx\n",
    "# Load ML Pkgs\n",
    "# Estimators\n",
    "from sklearn.linear_model import LogisticRegression\n",
    "from sklearn.naive_bayes import MultinomialNB\n",
    "\n",
    "# Transformers\n",
    "from sklearn.feature_extraction.text import CountVectorizer\n",
    "from sklearn.model_selection import train_test_split\n",
    "from sklearn.metrics import accuracy_score,classification_report,confusion_matrix\n",
    "# Load Dataset\n",
    "df = pd.read_csv(\"data/emotion_dataset_raw.csv\")\n",
    "df.head()\n",
    "# Value Counts\n",
    "df['Emotion'].value_counts()\n",
    "# Plot\n",
    "sns.countplot(x='Emotion',data=df)\n",
    "# Data Cleaning\n",
    "dir(nfx)\n",
    "# User handles\n",
    "df['Clean_Text'] = df['Text'].apply(nfx.remove_userhandles)\n",
    "# Stopwords\n",
    "df['Clean_Text'] = df['Clean_Text'].apply(nfx.remove_stopwords)\n",
    "df\n",
    "# Features & Labels\n",
    "Xfeatures = df['Clean_Text']\n",
    "ylabels = df['Emotion']\n",
    "#  Split Data\n",
    "x_train,x_test,y_train,y_test = train_test_split(Xfeatures,ylabels,test_size=0.3,random_state=42)\n",
    "# Build Pipeline\n",
    "from sklearn.pipeline import Pipeline\n",
    "# LogisticRegression Pipeline\n",
    "pipe_lr = Pipeline(steps=[('cv',CountVectorizer()),('lr',LogisticRegression())])\n",
    "# Train and Fit Data\n",
    "pipe_lr.fit(x_train,y_train)\n",
    "pipe_lr\n",
    "# Check Accuracy\n",
    "pipe_lr.score(x_test,y_test)\n",
    "# Make A Prediction\n",
    "ex1 = \"This book was so interesting it made me happy\n",
    "pipe_lr.predict([ex1])\n",
    "# Prediction Prob\n",
    "pipe_lr.predict_proba([ex1])\n",
    "# To Know the classes\n",
    "pipe_lr.classes_\n",
    "# To Know the classes\n",
    "pipe_lr.classes_"
   ]
  }
 ],
 "metadata": {
  "language_info": {
   "name": "python"
  }
 },
 "nbformat": 4,
 "nbformat_minor": 2
}
